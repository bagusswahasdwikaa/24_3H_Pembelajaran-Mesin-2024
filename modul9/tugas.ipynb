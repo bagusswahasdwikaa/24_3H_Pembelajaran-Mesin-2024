{
 "cells": [
  {
   "cell_type": "markdown",
   "metadata": {},
   "source": [
    "#### Tugas\n",
    "\n",
    "* Lakukan klasifikasi pada data MNIST dengan menggunakan model ANN\n",
    "* Anda diperbolehkan melakukan eksplorasi terhadap,\n",
    "    * Metode pra pengolahan\n",
    "    * Pemilihan fitur\n",
    "    * Arsitektur ANN\n",
    "    * Fungsi Aktiviasi\n",
    "* ANN diimplementasikan dengan menggunakan tensorflow.\n",
    "* **JELASKAN HASIL YANG ANDA DAPATKAN,**\n",
    "\n",
    "    * **AKURASI**\n",
    "\n",
    "    * **CONFUSION MATRIX**\n",
    "\n",
    "    * **KONFIGURASI MODEL --> MULAI DARI PRA PENGOLAHAN SAMPAI ARSITEKTUR ANN**"
   ]
  },
  {
   "cell_type": "code",
   "execution_count": null,
   "metadata": {
    "vscode": {
     "languageId": "plaintext"
    }
   },
   "outputs": [],
   "source": []
  }
 ],
 "metadata": {
  "language_info": {
   "name": "python"
  }
 },
 "nbformat": 4,
 "nbformat_minor": 2
}
